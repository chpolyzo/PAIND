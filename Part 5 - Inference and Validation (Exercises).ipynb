{
 "cells": [
  {
   "cell_type": "markdown",
   "metadata": {},
   "source": [
    "# Inference and Validation\n",
    "\n",
    "Now that you have a trained network, you can use it for making predictions. This is typically called **inference**, a term borrowed from statistics. However, neural networks have a tendency to perform *too well* on the training data and aren't able to generalize to data that hasn't been seen before. This is called **overfitting** and it impairs inference performance. To test for overfitting while training, we measure the performance on data not in the training set called the **validation** set. We avoid overfitting through regularization such as dropout while monitoring the validation performance during training. In this notebook, I'll show you how to do this in PyTorch. \n",
    "\n",
    "As usual, let's start by loading the dataset through torchvision. You'll learn more about torchvision and loading data in a later part. This time we'll be taking advantage of the test set which you can get by setting `train=False` here:\n",
    "\n",
    "```python\n",
    "testset = datasets.FashionMNIST('~/.pytorch/F_MNIST_data/', download=True, train=False, transform=transform)\n",
    "```\n",
    "\n",
    "The test set contains images just like the training set. Typically you'll see 10-20% of the original dataset held out for testing and validation with the rest being used for training."
   ]
  },
  {
   "cell_type": "code",
   "execution_count": 14,
   "metadata": {},
   "outputs": [],
   "source": [
    "import torch\n",
    "from torch import nn\n",
    "import torch.nn.functional as F\n",
    "from torchvision import datasets, transforms\n",
    "\n",
    "# Define a transform to normalize the data\n",
    "transform = transforms.Compose([transforms.ToTensor(),\n",
    "                                transforms.Normalize((0.5, 0.5, 0.5), (0.5, 0.5, 0.5))])\n",
    "# Download and load the training data\n",
    "trainset = datasets.FashionMNIST('~/.pytorch/F_MNIST_data/', download=True, train=True, transform=transform)\n",
    "trainloader = torch.utils.data.DataLoader(trainset, batch_size=64, shuffle=True)\n",
    "\n",
    "# Download and load the test data\n",
    "testset = datasets.FashionMNIST('~/.pytorch/F_MNIST_data/', download=True, train=False, transform=transform)\n",
    "testloader = torch.utils.data.DataLoader(testset, batch_size=64, shuffle=True)"
   ]
  },
  {
   "cell_type": "markdown",
   "metadata": {},
   "source": [
    "Here I'll create a model like normal, using the same one from my solution for part 4."
   ]
  },
  {
   "cell_type": "code",
   "execution_count": 2,
   "metadata": {},
   "outputs": [],
   "source": [
    "#Definition network architecture\n",
    "model = nn.Sequential(nn.Linear(784, 256),\n",
    "                      nn.ReLU(),\n",
    "                      nn.Linear(256, 128),\n",
    "                      nn.ReLU(),\n",
    "                      nn.Linear(128,64),\n",
    "                      nn.ReLU(),\n",
    "                      nn.Linear(64,10),\n",
    "                      nn.LogSoftmax(dim=1))"
   ]
  },
  {
   "cell_type": "markdown",
   "metadata": {},
   "source": [
    "The goal of validation is to measure the model's performance on data that isn't part of the training set. Performance here is up to the developer to define though. Typically this is just accuracy, the percentage of classes the network predicted correctly. Other options are [precision and recall](https://en.wikipedia.org/wiki/Precision_and_recall#Definition_(classification_context)) and top-5 error rate. We'll focus on accuracy here. First I'll do a forward pass with one batch from the test set."
   ]
  },
  {
   "cell_type": "code",
   "execution_count": 3,
   "metadata": {},
   "outputs": [],
   "source": [
    "#Criterion and optimizer definition - criterion for the forward pass to calculate loss\n",
    "from torch import optim\n",
    "criterion = nn.NLLLoss()\n",
    "optimizer = optim.SGD(model.parameters(), lr=0.003)"
   ]
  },
  {
   "cell_type": "markdown",
   "metadata": {},
   "source": [
    "With the probabilities, we can get the most likely class using the `ps.topk` method. This returns the $k$ highest values. Since we just want the most likely class, we can use `ps.topk(1)`. This returns a tuple of the top-$k$ values and the top-$k$ indices. If the highest value is the fifth element, we'll get back 4 as the index."
   ]
  },
  {
   "cell_type": "code",
   "execution_count": 4,
   "metadata": {},
   "outputs": [
    {
     "name": "stdout",
     "output_type": "stream",
     "text": [
      "tensor([[ 6],\n",
      "        [ 6],\n",
      "        [ 5],\n",
      "        [ 6],\n",
      "        [ 5],\n",
      "        [ 6],\n",
      "        [ 5],\n",
      "        [ 6],\n",
      "        [ 6],\n",
      "        [ 6]])\n"
     ]
    }
   ],
   "source": [
    "images, labels = next(iter(testloader))\n",
    "images = images.view(images.shape[0], -1)\n",
    "# Get the class probabilities\n",
    "ps = torch.exp(model(images))\n",
    "\n",
    "top_p, top_class = ps.topk(1, dim=1)\n",
    "# Look at the most likely classes for the first 10 examples\n",
    "print(top_class[:10,:])"
   ]
  },
  {
   "cell_type": "code",
   "execution_count": 5,
   "metadata": {},
   "outputs": [
    {
     "name": "stdout",
     "output_type": "stream",
     "text": [
      "tensor([[ 0.1105],\n",
      "        [ 0.1112],\n",
      "        [ 0.1140],\n",
      "        [ 0.1122],\n",
      "        [ 0.1086],\n",
      "        [ 0.1115],\n",
      "        [ 0.1089],\n",
      "        [ 0.1124],\n",
      "        [ 0.1128],\n",
      "        [ 0.1104]])\n"
     ]
    }
   ],
   "source": [
    "print(top_p[:10,:])"
   ]
  },
  {
   "cell_type": "code",
   "execution_count": 6,
   "metadata": {},
   "outputs": [
    {
     "data": {
      "text/plain": [
       "(tensor([[ 0.1105,  0.1077,  0.1064,  0.1044,  0.1020,  0.0981,  0.0974,\n",
       "           0.0945,  0.0920,  0.0870],\n",
       "         [ 0.1112,  0.1087,  0.1034,  0.1033,  0.1027,  0.0989,  0.0953,\n",
       "           0.0946,  0.0920,  0.0899],\n",
       "         [ 0.1140,  0.1089,  0.1062,  0.1049,  0.1016,  0.0970,  0.0956,\n",
       "           0.0945,  0.0916,  0.0858],\n",
       "         [ 0.1122,  0.1074,  0.1056,  0.1029,  0.1013,  0.0977,  0.0968,\n",
       "           0.0960,  0.0923,  0.0878],\n",
       "         [ 0.1086,  0.1083,  0.1055,  0.1048,  0.1042,  0.0983,  0.0969,\n",
       "           0.0934,  0.0932,  0.0868],\n",
       "         [ 0.1115,  0.1063,  0.1040,  0.1038,  0.1010,  0.0997,  0.0974,\n",
       "           0.0953,  0.0926,  0.0884],\n",
       "         [ 0.1089,  0.1086,  0.1061,  0.1039,  0.1037,  0.0967,  0.0955,\n",
       "           0.0954,  0.0941,  0.0870],\n",
       "         [ 0.1124,  0.1085,  0.1057,  0.1022,  0.1019,  0.0986,  0.0963,\n",
       "           0.0951,  0.0929,  0.0865],\n",
       "         [ 0.1128,  0.1064,  0.1050,  0.1049,  0.1029,  0.0978,  0.0958,\n",
       "           0.0938,  0.0925,  0.0881],\n",
       "         [ 0.1104,  0.1079,  0.1048,  0.1043,  0.1017,  0.0997,  0.0983,\n",
       "           0.0934,  0.0921,  0.0874],\n",
       "         [ 0.1109,  0.1080,  0.1049,  0.1040,  0.1019,  0.0992,  0.0990,\n",
       "           0.0962,  0.0913,  0.0848],\n",
       "         [ 0.1118,  0.1077,  0.1038,  0.1032,  0.1005,  0.0998,  0.0981,\n",
       "           0.0969,  0.0917,  0.0865],\n",
       "         [ 0.1130,  0.1064,  0.1047,  0.1017,  0.1007,  0.0994,  0.0977,\n",
       "           0.0967,  0.0922,  0.0874],\n",
       "         [ 0.1135,  0.1092,  0.1050,  0.1027,  0.1019,  0.0962,  0.0962,\n",
       "           0.0940,  0.0933,  0.0879],\n",
       "         [ 0.1101,  0.1094,  0.1075,  0.1037,  0.1012,  0.0990,  0.0952,\n",
       "           0.0944,  0.0941,  0.0855],\n",
       "         [ 0.1143,  0.1091,  0.1053,  0.1034,  0.1007,  0.0983,  0.0970,\n",
       "           0.0960,  0.0912,  0.0847],\n",
       "         [ 0.1090,  0.1088,  0.1052,  0.1051,  0.1045,  0.0970,  0.0963,\n",
       "           0.0949,  0.0914,  0.0877],\n",
       "         [ 0.1096,  0.1095,  0.1071,  0.1058,  0.1002,  0.0991,  0.0952,\n",
       "           0.0946,  0.0938,  0.0852],\n",
       "         [ 0.1103,  0.1084,  0.1047,  0.1039,  0.1037,  0.0980,  0.0965,\n",
       "           0.0942,  0.0929,  0.0875],\n",
       "         [ 0.1146,  0.1079,  0.1055,  0.1027,  0.1012,  0.0983,  0.0977,\n",
       "           0.0931,  0.0915,  0.0873],\n",
       "         [ 0.1120,  0.1112,  0.1057,  0.1041,  0.1002,  0.0973,  0.0963,\n",
       "           0.0949,  0.0907,  0.0875],\n",
       "         [ 0.1105,  0.1100,  0.1055,  0.1052,  0.1039,  0.0973,  0.0968,\n",
       "           0.0941,  0.0924,  0.0842],\n",
       "         [ 0.1130,  0.1092,  0.1041,  0.1030,  0.1017,  0.0987,  0.0955,\n",
       "           0.0940,  0.0933,  0.0876],\n",
       "         [ 0.1137,  0.1080,  0.1078,  0.1037,  0.1006,  0.0977,  0.0959,\n",
       "           0.0943,  0.0917,  0.0866],\n",
       "         [ 0.1109,  0.1081,  0.1041,  0.1039,  0.1036,  0.1000,  0.0988,\n",
       "           0.0942,  0.0916,  0.0848],\n",
       "         [ 0.1149,  0.1075,  0.1048,  0.1030,  0.1015,  0.0971,  0.0957,\n",
       "           0.0942,  0.0932,  0.0880],\n",
       "         [ 0.1109,  0.1081,  0.1050,  0.1035,  0.1032,  0.0988,  0.0971,\n",
       "           0.0932,  0.0924,  0.0878],\n",
       "         [ 0.1120,  0.1076,  0.1068,  0.1042,  0.1037,  0.0977,  0.0942,\n",
       "           0.0939,  0.0929,  0.0869],\n",
       "         [ 0.1146,  0.1092,  0.1045,  0.1027,  0.1010,  0.0964,  0.0960,\n",
       "           0.0952,  0.0923,  0.0880],\n",
       "         [ 0.1087,  0.1080,  0.1052,  0.1051,  0.1041,  0.1007,  0.0957,\n",
       "           0.0953,  0.0932,  0.0841],\n",
       "         [ 0.1096,  0.1084,  0.1035,  0.1032,  0.1031,  0.1016,  0.0960,\n",
       "           0.0942,  0.0939,  0.0865],\n",
       "         [ 0.1111,  0.1099,  0.1057,  0.1052,  0.1014,  0.0964,  0.0952,\n",
       "           0.0944,  0.0923,  0.0885],\n",
       "         [ 0.1116,  0.1089,  0.1047,  0.1025,  0.1021,  0.0992,  0.0972,\n",
       "           0.0957,  0.0917,  0.0862],\n",
       "         [ 0.1124,  0.1075,  0.1043,  0.1035,  0.1014,  0.0984,  0.0971,\n",
       "           0.0967,  0.0912,  0.0877],\n",
       "         [ 0.1142,  0.1083,  0.1043,  0.1033,  0.1009,  0.0984,  0.0966,\n",
       "           0.0963,  0.0921,  0.0856],\n",
       "         [ 0.1104,  0.1073,  0.1053,  0.1039,  0.1032,  0.0988,  0.0964,\n",
       "           0.0947,  0.0927,  0.0874],\n",
       "         [ 0.1092,  0.1084,  0.1051,  0.1035,  0.1034,  0.0997,  0.0958,\n",
       "           0.0953,  0.0914,  0.0881],\n",
       "         [ 0.1120,  0.1057,  0.1056,  0.1046,  0.1015,  0.0982,  0.0964,\n",
       "           0.0950,  0.0922,  0.0888],\n",
       "         [ 0.1110,  0.1058,  0.1055,  0.1052,  0.1009,  0.1003,  0.0972,\n",
       "           0.0931,  0.0925,  0.0885],\n",
       "         [ 0.1095,  0.1090,  0.1046,  0.1044,  0.1034,  0.0981,  0.0957,\n",
       "           0.0953,  0.0917,  0.0883],\n",
       "         [ 0.1108,  0.1076,  0.1044,  0.1032,  0.1030,  0.1008,  0.0982,\n",
       "           0.0951,  0.0927,  0.0842],\n",
       "         [ 0.1121,  0.1093,  0.1045,  0.1025,  0.1023,  0.0980,  0.0968,\n",
       "           0.0956,  0.0916,  0.0874],\n",
       "         [ 0.1131,  0.1129,  0.1045,  0.1028,  0.1004,  0.0967,  0.0959,\n",
       "           0.0954,  0.0906,  0.0878],\n",
       "         [ 0.1094,  0.1075,  0.1069,  0.1033,  0.1022,  0.1002,  0.0973,\n",
       "           0.0943,  0.0925,  0.0864],\n",
       "         [ 0.1101,  0.1064,  0.1059,  0.1040,  0.1032,  0.0979,  0.0978,\n",
       "           0.0964,  0.0918,  0.0864],\n",
       "         [ 0.1118,  0.1097,  0.1059,  0.1042,  0.1012,  0.0967,  0.0961,\n",
       "           0.0951,  0.0919,  0.0873],\n",
       "         [ 0.1136,  0.1080,  0.1054,  0.1033,  0.1018,  0.0975,  0.0949,\n",
       "           0.0949,  0.0923,  0.0883],\n",
       "         [ 0.1128,  0.1068,  0.1057,  0.1038,  0.1029,  0.1006,  0.0969,\n",
       "           0.0942,  0.0919,  0.0843],\n",
       "         [ 0.1101,  0.1088,  0.1071,  0.1048,  0.1018,  0.0975,  0.0960,\n",
       "           0.0939,  0.0933,  0.0867],\n",
       "         [ 0.1100,  0.1077,  0.1063,  0.1038,  0.1002,  0.1002,  0.0993,\n",
       "           0.0932,  0.0926,  0.0866],\n",
       "         [ 0.1118,  0.1085,  0.1042,  0.1035,  0.1032,  0.0991,  0.0972,\n",
       "           0.0954,  0.0915,  0.0856],\n",
       "         [ 0.1082,  0.1077,  0.1058,  0.1041,  0.1037,  0.1013,  0.0962,\n",
       "           0.0936,  0.0918,  0.0875],\n",
       "         [ 0.1122,  0.1113,  0.1053,  0.1049,  0.1017,  0.0963,  0.0960,\n",
       "           0.0940,  0.0915,  0.0868],\n",
       "         [ 0.1134,  0.1081,  0.1047,  0.1013,  0.1011,  0.0979,  0.0970,\n",
       "           0.0950,  0.0928,  0.0886],\n",
       "         [ 0.1132,  0.1083,  0.1041,  0.1025,  0.1015,  0.0973,  0.0961,\n",
       "           0.0959,  0.0928,  0.0884],\n",
       "         [ 0.1131,  0.1076,  0.1049,  0.1042,  0.1026,  0.0993,  0.0974,\n",
       "           0.0935,  0.0930,  0.0845],\n",
       "         [ 0.1123,  0.1087,  0.1065,  0.1033,  0.1021,  0.0973,  0.0965,\n",
       "           0.0955,  0.0915,  0.0864],\n",
       "         [ 0.1125,  0.1060,  0.1051,  0.1037,  0.1018,  0.0974,  0.0967,\n",
       "           0.0966,  0.0919,  0.0884],\n",
       "         [ 0.1073,  0.1069,  0.1059,  0.1053,  0.1041,  0.1020,  0.0965,\n",
       "           0.0946,  0.0933,  0.0841],\n",
       "         [ 0.1126,  0.1079,  0.1034,  0.1016,  0.1001,  0.0995,  0.0964,\n",
       "           0.0957,  0.0936,  0.0892],\n",
       "         [ 0.1130,  0.1094,  0.1058,  0.1036,  0.1020,  0.0972,  0.0967,\n",
       "           0.0955,  0.0911,  0.0857],\n",
       "         [ 0.1113,  0.1093,  0.1028,  0.1023,  0.1010,  0.1000,  0.0953,\n",
       "           0.0952,  0.0935,  0.0893],\n",
       "         [ 0.1139,  0.1072,  0.1041,  0.1024,  0.1020,  0.0995,  0.0970,\n",
       "           0.0955,  0.0925,  0.0859],\n",
       "         [ 0.1116,  0.1077,  0.1029,  0.1027,  0.1022,  0.0994,  0.0967,\n",
       "           0.0950,  0.0930,  0.0887]]),\n",
       " tensor([[ 6,  5,  3,  7,  9,  1,  8,  2,  0,  4],\n",
       "         [ 6,  5,  9,  7,  3,  1,  8,  2,  0,  4],\n",
       "         [ 5,  6,  9,  3,  7,  2,  8,  1,  0,  4],\n",
       "         [ 6,  5,  3,  7,  9,  1,  8,  2,  0,  4],\n",
       "         [ 5,  6,  3,  7,  9,  1,  8,  2,  0,  4],\n",
       "         [ 6,  5,  3,  7,  9,  1,  2,  8,  0,  4],\n",
       "         [ 5,  6,  3,  9,  7,  1,  2,  0,  8,  4],\n",
       "         [ 6,  5,  3,  7,  9,  1,  8,  2,  0,  4],\n",
       "         [ 6,  5,  3,  7,  9,  1,  8,  2,  0,  4],\n",
       "         [ 6,  5,  7,  3,  9,  1,  8,  2,  0,  4],\n",
       "         [ 6,  5,  3,  7,  9,  8,  1,  2,  0,  4],\n",
       "         [ 6,  5,  9,  3,  1,  7,  2,  8,  0,  4],\n",
       "         [ 6,  5,  3,  9,  7,  8,  1,  2,  0,  4],\n",
       "         [ 6,  5,  3,  7,  9,  1,  8,  2,  0,  4],\n",
       "         [ 6,  5,  9,  3,  7,  1,  8,  2,  0,  4],\n",
       "         [ 6,  5,  3,  9,  7,  1,  8,  2,  0,  4],\n",
       "         [ 6,  5,  7,  3,  9,  1,  8,  0,  2,  4],\n",
       "         [ 6,  5,  9,  3,  7,  1,  8,  2,  0,  4],\n",
       "         [ 6,  5,  3,  9,  7,  8,  1,  2,  0,  4],\n",
       "         [ 6,  5,  3,  7,  9,  1,  8,  0,  2,  4],\n",
       "         [ 5,  6,  9,  3,  7,  2,  8,  1,  0,  4],\n",
       "         [ 6,  5,  3,  9,  7,  1,  8,  2,  0,  4],\n",
       "         [ 6,  5,  3,  9,  7,  1,  8,  2,  0,  4],\n",
       "         [ 6,  5,  3,  9,  7,  8,  1,  2,  0,  4],\n",
       "         [ 6,  5,  3,  7,  9,  1,  8,  2,  0,  4],\n",
       "         [ 6,  5,  3,  9,  7,  1,  8,  2,  0,  4],\n",
       "         [ 6,  5,  3,  7,  9,  1,  8,  0,  2,  4],\n",
       "         [ 6,  5,  3,  9,  7,  1,  8,  0,  2,  4],\n",
       "         [ 6,  5,  3,  9,  7,  8,  1,  2,  0,  4],\n",
       "         [ 6,  5,  9,  3,  7,  1,  8,  2,  0,  4],\n",
       "         [ 6,  5,  9,  3,  7,  1,  2,  8,  0,  4],\n",
       "         [ 6,  5,  9,  3,  7,  1,  8,  2,  0,  4],\n",
       "         [ 6,  5,  3,  9,  7,  1,  8,  2,  0,  4],\n",
       "         [ 6,  5,  3,  9,  7,  1,  8,  2,  0,  4],\n",
       "         [ 6,  5,  3,  9,  7,  1,  8,  2,  0,  4],\n",
       "         [ 6,  5,  3,  9,  7,  1,  8,  2,  0,  4],\n",
       "         [ 5,  6,  7,  9,  3,  1,  0,  8,  2,  4],\n",
       "         [ 6,  5,  3,  7,  9,  1,  8,  2,  0,  4],\n",
       "         [ 6,  5,  3,  7,  9,  1,  8,  2,  0,  4],\n",
       "         [ 6,  5,  3,  7,  9,  1,  0,  8,  2,  4],\n",
       "         [ 6,  5,  3,  7,  9,  1,  8,  2,  0,  4],\n",
       "         [ 5,  6,  9,  7,  3,  1,  2,  8,  0,  4],\n",
       "         [ 5,  6,  9,  3,  7,  8,  1,  2,  0,  4],\n",
       "         [ 5,  6,  9,  7,  3,  1,  2,  8,  0,  4],\n",
       "         [ 6,  3,  5,  7,  9,  2,  1,  8,  0,  4],\n",
       "         [ 5,  6,  9,  3,  7,  2,  1,  8,  0,  4],\n",
       "         [ 6,  5,  3,  7,  9,  1,  8,  2,  0,  4],\n",
       "         [ 6,  5,  3,  7,  9,  1,  8,  2,  0,  4],\n",
       "         [ 6,  5,  3,  9,  7,  1,  8,  2,  0,  4],\n",
       "         [ 6,  5,  7,  3,  1,  9,  8,  2,  0,  4],\n",
       "         [ 6,  5,  3,  7,  9,  1,  8,  2,  0,  4],\n",
       "         [ 6,  5,  9,  7,  3,  1,  8,  0,  2,  4],\n",
       "         [ 5,  6,  9,  3,  7,  8,  1,  2,  0,  4],\n",
       "         [ 6,  5,  3,  9,  7,  1,  2,  8,  0,  4],\n",
       "         [ 6,  5,  9,  3,  7,  1,  2,  8,  0,  4],\n",
       "         [ 6,  5,  3,  9,  7,  1,  8,  2,  0,  4],\n",
       "         [ 6,  5,  3,  7,  9,  8,  1,  2,  0,  4],\n",
       "         [ 6,  5,  3,  9,  7,  1,  2,  8,  0,  4],\n",
       "         [ 6,  5,  3,  9,  7,  1,  8,  2,  0,  4],\n",
       "         [ 6,  5,  9,  3,  7,  1,  2,  8,  0,  4],\n",
       "         [ 6,  5,  3,  7,  9,  8,  1,  2,  0,  4],\n",
       "         [ 6,  5,  9,  3,  1,  7,  2,  8,  0,  4],\n",
       "         [ 6,  5,  3,  9,  7,  1,  8,  2,  0,  4],\n",
       "         [ 6,  5,  3,  9,  7,  1,  2,  8,  0,  4]]))"
      ]
     },
     "execution_count": 6,
     "metadata": {},
     "output_type": "execute_result"
    }
   ],
   "source": [
    "ps.topk(10, dim=1)"
   ]
  },
  {
   "cell_type": "markdown",
   "metadata": {},
   "source": [
    "Now we can check if the predicted classes match the labels. This is simple to do by equating `top_class` and `labels`, but we have to be careful of the shapes. Here `top_class` is a 2D tensor with shape `(64, 1)` while `labels` is 1D with shape `(64)`. To get the equality to work out the way we want, `top_class` and `labels` must have the same shape.\n",
    "\n",
    "If we do\n",
    "\n",
    "```python\n",
    "equals = top_class == labels\n",
    "```\n",
    "\n",
    "`equals` will have shape `(64, 64)`, try it yourself. What it's doing is comparing the one element in each row of `top_class` with each element in `labels` which returns 64 True/False boolean values for each row."
   ]
  },
  {
   "cell_type": "code",
   "execution_count": 7,
   "metadata": {},
   "outputs": [],
   "source": [
    "equals = top_class == labels.view(*top_class.shape)"
   ]
  },
  {
   "cell_type": "code",
   "execution_count": 8,
   "metadata": {},
   "outputs": [
    {
     "data": {
      "text/plain": [
       "torch.Size([64, 1])"
      ]
     },
     "execution_count": 8,
     "metadata": {},
     "output_type": "execute_result"
    }
   ],
   "source": [
    "equals.shape"
   ]
  },
  {
   "cell_type": "code",
   "execution_count": 9,
   "metadata": {},
   "outputs": [
    {
     "data": {
      "text/plain": [
       "tensor([[ 0],\n",
       "        [ 0],\n",
       "        [ 0],\n",
       "        [ 0],\n",
       "        [ 0],\n",
       "        [ 0],\n",
       "        [ 0],\n",
       "        [ 0],\n",
       "        [ 0],\n",
       "        [ 1]], dtype=torch.uint8)"
      ]
     },
     "execution_count": 9,
     "metadata": {},
     "output_type": "execute_result"
    }
   ],
   "source": [
    "equals[:10]"
   ]
  },
  {
   "cell_type": "markdown",
   "metadata": {},
   "source": [
    "Now we need to calculate the percentage of correct predictions. `equals` has binary values, either 0 or 1. This means that if we just sum up all the values and divide by the number of values, we get the percentage of correct predictions. This is the same operation as taking the mean, so we can get the accuracy with a call to `torch.mean`. If only it was that simple. If you try `torch.mean(equals)`, you'll get an error\n",
    "\n",
    "```\n",
    "RuntimeError: mean is not implemented for type torch.ByteTensor\n",
    "```\n",
    "\n",
    "This happens because `equals` has type `torch.ByteTensor` but `torch.mean` isn't implemented for tensors with that type. So we'll need to convert `equals` to a float tensor. Note that when we take `torch.mean` it returns a scalar tensor, to get the actual value as a float we'll need to do `accuracy.item()`."
   ]
  },
  {
   "cell_type": "code",
   "execution_count": 10,
   "metadata": {},
   "outputs": [
    {
     "name": "stdout",
     "output_type": "stream",
     "text": [
      "Accuracy: 10.9375%\n"
     ]
    }
   ],
   "source": [
    "accuracy = torch.mean(equals.type(torch.FloatTensor))\n",
    "print(f'Accuracy: {accuracy.item()*100}%')"
   ]
  },
  {
   "cell_type": "markdown",
   "metadata": {},
   "source": [
    "The network is untrained so it's making random guesses and we should see an accuracy around 10%. Now let's train our network and include our validation pass so we can measure how well the network is performing on the test set. Since we're not updating our parameters in the validation pass, we can speed up our code by turning off gradients using `torch.no_grad()`:\n",
    "\n",
    "```python\n",
    "# turn off gradients\n",
    "with torch.no_grad():\n",
    "    # validation pass here\n",
    "    for images, labels in testloader:\n",
    "        ...\n",
    "```\n",
    "\n",
    ">**Exercise:** Implement the validation loop below and print out the total accuracy after the loop. You can largely copy and paste the code from above, but I suggest typing it in because writing it out yourself is essential for building the skill. In general you'll always learn more by typing it rather than copy-pasting. You should be able to get an accuracy above 80%."
   ]
  },
  {
   "cell_type": "code",
   "execution_count": 11,
   "metadata": {},
   "outputs": [
    {
     "name": "stdout",
     "output_type": "stream",
     "text": [
      "Epoch: 1/30..  Training Loss: 2.117..  Test Loss: 1.690..  Test Accuracy: 0.402\n",
      "Epoch: 2/30..  Training Loss: 1.218..  Test Loss: 0.918..  Test Accuracy: 0.680\n",
      "Epoch: 3/30..  Training Loss: 0.790..  Test Loss: 0.723..  Test Accuracy: 0.742\n",
      "Epoch: 4/30..  Training Loss: 0.662..  Test Loss: 0.642..  Test Accuracy: 0.760\n",
      "Epoch: 5/30..  Training Loss: 0.601..  Test Loss: 0.601..  Test Accuracy: 0.776\n",
      "Epoch: 6/30..  Training Loss: 0.561..  Test Loss: 0.574..  Test Accuracy: 0.792\n",
      "Epoch: 7/30..  Training Loss: 0.532..  Test Loss: 0.547..  Test Accuracy: 0.802\n",
      "Epoch: 8/30..  Training Loss: 0.510..  Test Loss: 0.535..  Test Accuracy: 0.805\n",
      "Epoch: 9/30..  Training Loss: 0.493..  Test Loss: 0.519..  Test Accuracy: 0.811\n",
      "Epoch: 10/30..  Training Loss: 0.479..  Test Loss: 0.505..  Test Accuracy: 0.817\n",
      "Epoch: 11/30..  Training Loss: 0.466..  Test Loss: 0.497..  Test Accuracy: 0.822\n",
      "Epoch: 12/30..  Training Loss: 0.457..  Test Loss: 0.490..  Test Accuracy: 0.823\n",
      "Epoch: 13/30..  Training Loss: 0.447..  Test Loss: 0.477..  Test Accuracy: 0.830\n",
      "Epoch: 14/30..  Training Loss: 0.439..  Test Loss: 0.471..  Test Accuracy: 0.829\n",
      "Epoch: 15/30..  Training Loss: 0.432..  Test Loss: 0.469..  Test Accuracy: 0.831\n",
      "Epoch: 16/30..  Training Loss: 0.425..  Test Loss: 0.455..  Test Accuracy: 0.836\n",
      "Epoch: 17/30..  Training Loss: 0.418..  Test Loss: 0.450..  Test Accuracy: 0.839\n",
      "Epoch: 18/30..  Training Loss: 0.412..  Test Loss: 0.451..  Test Accuracy: 0.839\n",
      "Epoch: 19/30..  Training Loss: 0.407..  Test Loss: 0.442..  Test Accuracy: 0.840\n",
      "Epoch: 20/30..  Training Loss: 0.401..  Test Loss: 0.438..  Test Accuracy: 0.842\n",
      "Epoch: 21/30..  Training Loss: 0.396..  Test Loss: 0.444..  Test Accuracy: 0.840\n",
      "Epoch: 22/30..  Training Loss: 0.391..  Test Loss: 0.435..  Test Accuracy: 0.843\n",
      "Epoch: 23/30..  Training Loss: 0.386..  Test Loss: 0.423..  Test Accuracy: 0.848\n",
      "Epoch: 24/30..  Training Loss: 0.382..  Test Loss: 0.420..  Test Accuracy: 0.849\n",
      "Epoch: 25/30..  Training Loss: 0.377..  Test Loss: 0.436..  Test Accuracy: 0.844\n",
      "Epoch: 26/30..  Training Loss: 0.374..  Test Loss: 0.414..  Test Accuracy: 0.850\n",
      "Epoch: 27/30..  Training Loss: 0.369..  Test Loss: 0.409..  Test Accuracy: 0.853\n",
      "Epoch: 28/30..  Training Loss: 0.365..  Test Loss: 0.414..  Test Accuracy: 0.852\n",
      "Epoch: 29/30..  Training Loss: 0.361..  Test Loss: 0.411..  Test Accuracy: 0.851\n",
      "Epoch: 30/30..  Training Loss: 0.357..  Test Loss: 0.405..  Test Accuracy: 0.856\n"
     ]
    }
   ],
   "source": [
    "#Train the network here\n",
    "epochs = 30\n",
    "steps = 0\n",
    "train_losses, test_losses = [], []\n",
    "for e in range(epochs):\n",
    "    running_loss = 0\n",
    "    for images, labels in trainloader:\n",
    "        images = images.view(images.shape[0], -1)\n",
    "        optimizer.zero_grad()\n",
    "        output=model.forward(images)\n",
    "        loss=criterion(output, labels)\n",
    "        loss.backward()\n",
    "        optimizer.step()\n",
    "        running_loss += loss.item()\n",
    "    else:\n",
    "        test_loss = 0\n",
    "        accuracy = 0\n",
    "        \n",
    "\n",
    "        # Turn off gradients for validation, saves memory and computations\n",
    "        with torch.no_grad():\n",
    "            for images, labels in testloader:\n",
    "                images = images.view(images.shape[0], -1)\n",
    "                log_ps = model(images)\n",
    "                test_loss += criterion(log_ps, labels)\n",
    "                \n",
    "                ps = torch.exp(log_ps)\n",
    "                top_p, top_class = ps.topk(1, dim=1)\n",
    "                equals = top_class == labels.view(*top_class.shape)\n",
    "                accuracy += torch.mean(equals.type(torch.FloatTensor))\n",
    "                \n",
    "        train_losses.append(running_loss/len(trainloader))\n",
    "        test_losses.append(test_loss/len(testloader))\n",
    "\n",
    "        print(\"Epoch: {}/{}.. \".format(e+1, epochs),\n",
    "              \"Training Loss: {:.3f}.. \".format(running_loss/len(trainloader)),\n",
    "              \"Test Loss: {:.3f}.. \".format(test_loss/len(testloader)),\n",
    "              \"Test Accuracy: {:.3f}\".format(accuracy/len(testloader)))"
   ]
  },
  {
   "cell_type": "code",
   "execution_count": 12,
   "metadata": {},
   "outputs": [
    {
     "data": {
      "image/png": "[encoded data removed]",
      "text/plain": [
       "<matplotlib.figure.Figure at 0x7faad71de940>"
      ]
     },
     "metadata": {
      "image/png": {
       "height": 204,
       "width": 423
      },
      "needs_background": "light"
     },
     "output_type": "display_data"
    }
   ],
   "source": [
    "%matplotlib inline\n",
    "%config InlineBackend.figure_format = 'retina'\n",
    "\n",
    "import helper\n",
    "\n",
    "# Test out your network!\n",
    "\n",
    "dataiter = iter(testloader)\n",
    "images, labels = dataiter.next()\n",
    "img = images[0]\n",
    "# Convert 2D image to 1D vector\n",
    "img = img.resize_(1, 784)\n",
    "\n",
    "# TODO: Calculate the class probabilities (softmax) for img\n",
    "with torch.no_grad():\n",
    "    logits = model.forward(img)\n",
    "ps = F.softmax(logits, dim =1)\n",
    "\n",
    "# Plot the image and probabilities\n",
    "helper.view_classify(img.resize_(1, 28, 28), ps, version='Fashion')"
   ]
  },
  {
   "cell_type": "markdown",
   "metadata": {},
   "source": [
    "## Overfitting\n",
    "\n",
    "If we look at the training and validation losses as we train the network, we can see a phenomenon known as overfitting.\n",
    "\n",
    "<img src='assets/overfitting.png' width=450px>\n",
    "\n",
    "The network learns the training set better and better, resulting in lower training losses. However, it starts having problems generalizing to data outside the training set leading to the validation loss increasing. The ultimate goal of any deep learning model is to make predictions on new data, so we should strive to get the lowest validation loss possible. One option is to use the version of the model with the lowest validation loss, here the one around 8-10 training epochs. This strategy is called *early-stopping*. In practice, you'd save the model frequently as you're training then later choose the model with the lowest validation loss.\n",
    "\n",
    "The most common method to reduce overfitting (outside of early-stopping) is *dropout*, where we randomly drop input units. This forces the network to share information between weights, increasing it's ability to generalize to new data. Adding dropout in PyTorch is straightforward using the [`nn.Dropout`](https://pytorch.org/docs/stable/nn.html#torch.nn.Dropout) module.\n",
    "\n",
    "```python\n",
    "class Classifier(nn.Module):\n",
    "    def __init__(self):\n",
    "        super().__init__()\n",
    "        self.fc1 = nn.Linear(784, 256)\n",
    "        self.fc2 = nn.Linear(256, 128)\n",
    "        self.fc3 = nn.Linear(128, 64)\n",
    "        self.fc4 = nn.Linear(64, 10)\n",
    "        \n",
    "        # Dropout module with 0.2 drop probability\n",
    "        self.dropout = nn.Dropout(p=0.2)\n",
    "        \n",
    "    def forward(self, x):\n",
    "        # make sure input tensor is flattened\n",
    "        x = x.view(x.shape[0], -1)\n",
    "        \n",
    "        # Now with dropout\n",
    "        x = self.dropout(F.relu(self.fc1(x)))\n",
    "        x = self.dropout(F.relu(self.fc2(x)))\n",
    "        x = self.dropout(F.relu(self.fc3(x)))\n",
    "        \n",
    "        # output so no dropout here\n",
    "        x = F.log_softmax(self.fc4(x), dim=1)\n",
    "        \n",
    "        return x\n",
    "```\n",
    "\n",
    "During training we want to use dropout to prevent overfitting, but during inference we want to use the entire network. So, we need to turn off dropout during validation, testing, and whenever we're using the network to make predictions. To do this, you use `model.eval()`. This sets the model to evaluation mode where the dropout probability is 0. You can turn dropout back on by setting the model to train mode with `model.train()`. In general, the pattern for the validation loop will look like this, where you turn off gradients, set the model to evaluation mode, calculate the validation loss and metric, then set the model back to train mode.\n",
    "\n",
    "```python\n",
    "# turn off gradients\n",
    "with torch.no_grad():\n",
    "    \n",
    "    # set model to evaluation mode\n",
    "    model.eval()\n",
    "    \n",
    "    # validation pass here\n",
    "    for images, labels in testloader:\n",
    "        ...\n",
    "\n",
    "# set model back to train mode\n",
    "model.train()\n",
    "```"
   ]
  },
  {
   "cell_type": "markdown",
   "metadata": {},
   "source": [
    "> **Exercise:** Add dropout to your model and train it on Fashion-MNIST again. See if you can get a lower validation loss or higher accuracy."
   ]
  },
  {
   "cell_type": "code",
   "execution_count": 23,
   "metadata": {},
   "outputs": [],
   "source": [
    "## TODO: Define your model with dropout added\n",
    "\n",
    "model = nn.Sequential(nn.Linear(784, 256),\n",
    "                      nn.ReLU(),\n",
    "                      nn.Dropout(0.2),\n",
    "                      nn.Linear(256, 128),\n",
    "                      nn.ReLU(),\n",
    "                      nn.Dropout(0.2),\n",
    "                      nn.Linear(128,64),\n",
    "                      nn.ReLU(),\n",
    "                      nn.Dropout(0.2),\n",
    "                      nn.Linear(64,10),\n",
    "                      nn.LogSoftmax(dim=1))"
   ]
  },
  {
   "cell_type": "code",
   "execution_count": 24,
   "metadata": {},
   "outputs": [
    {
     "name": "stdout",
     "output_type": "stream",
     "text": [
      "Epoch: 1/5..  Training Loss: 2.304..  Test Loss: 2.304..  Test Accuracy: 0.110\n",
      "Epoch: 2/5..  Training Loss: 2.305..  Test Loss: 2.304..  Test Accuracy: 0.110\n",
      "Epoch: 3/5..  Training Loss: 2.305..  Test Loss: 2.304..  Test Accuracy: 0.110\n",
      "Epoch: 4/5..  Training Loss: 2.305..  Test Loss: 2.304..  Test Accuracy: 0.110\n",
      "Epoch: 5/5..  Training Loss: 2.305..  Test Loss: 2.304..  Test Accuracy: 0.110\n"
     ]
    }
   ],
   "source": [
    "## TODO: Train your model with dropout, and monitor the training progress with the validation loss and accuracy\n",
    "epochs = 5\n",
    "steps = 0\n",
    "train_losses, test_losses = [], []\n",
    "for e in range(epochs):\n",
    "    running_loss = 0\n",
    "    for images, labels in trainloader:\n",
    "        images = images.view(images.shape[0], -1)\n",
    "        optimizer.zero_grad()\n",
    "        output=model.forward(images)\n",
    "        loss=criterion(output, labels)\n",
    "        loss.backward()\n",
    "        optimizer.step()\n",
    "        running_loss += loss.item()\n",
    "    else:\n",
    "        test_loss = 0\n",
    "        accuracy = 0\n",
    "        \n",
    "\n",
    "        # Turn off gradients for validation, saves memory and computations\n",
    "        with torch.no_grad():\n",
    "            model.eval()\n",
    "            for images, labels in testloader:\n",
    "                images = images.view(images.shape[0], -1)\n",
    "                log_ps = model(images)\n",
    "                test_loss += criterion(log_ps, labels)\n",
    "                \n",
    "                ps = torch.exp(log_ps)\n",
    "                top_p, top_class = ps.topk(1, dim=1)\n",
    "                equals = top_class == labels.view(*top_class.shape)\n",
    "                accuracy += torch.mean(equals.type(torch.FloatTensor))\n",
    "                \n",
    "        \n",
    "        model.train()\n",
    "                \n",
    "        train_losses.append(running_loss/len(trainloader))\n",
    "        test_losses.append(test_loss/len(testloader))\n",
    "\n",
    "        print(\"Epoch: {}/{}.. \".format(e+1, epochs),\n",
    "              \"Training Loss: {:.3f}.. \".format(running_loss/len(trainloader)),\n",
    "              \"Test Loss: {:.3f}.. \".format(test_loss/len(testloader)),\n",
    "              \"Test Accuracy: {:.3f}\".format(accuracy/len(testloader)))"
   ]
  },
  {
   "cell_type": "code",
   "execution_count": 25,
   "metadata": {},
   "outputs": [],
   "source": [
    "%matplotlib inline\n",
    "%config InlineBackend.figure_format = 'retina'\n",
    "\n",
    "import matplotlib.pyplot as plt"
   ]
  },
  {
   "cell_type": "code",
   "execution_count": 26,
   "metadata": {},
   "outputs": [
    {
     "data": {
      "text/plain": [
       "<matplotlib.legend.Legend at 0x7faae3c0de48>"
      ]
     },
     "execution_count": 26,
     "metadata": {},
     "output_type": "execute_result"
    },
    {
     "data": {
      "image/png": "[encoded data removed]",
      "text/plain": [
       "<matplotlib.figure.Figure at 0x7faad506e9b0>"
      ]
     },
     "metadata": {
      "image/png": {
       "height": 258,
       "width": 393
      },
      "needs_background": "light"
     },
     "output_type": "display_data"
    }
   ],
   "source": [
    "plt.plot(train_losses, label='Training loss')\n",
    "plt.plot(test_losses, label='Validation loss')\n",
    "plt.legend(frameon=False)"
   ]
  },
  {
   "cell_type": "markdown",
   "metadata": {},
   "source": [
    "## Inference\n",
    "\n",
    "Now that the model is trained, we can use it for inference. We've done this before, but now we need to remember to set the model in inference mode with `model.eval()`. You'll also want to turn off autograd with the `torch.no_grad()` context."
   ]
  },
  {
   "cell_type": "code",
   "execution_count": 17,
   "metadata": {},
   "outputs": [
    {
     "data": {
      "image/png": "[encoded data removed]",
      "text/plain": [
       "<matplotlib.figure.Figure at 0x7f358a17f0b8>"
      ]
     },
     "metadata": {
      "image/png": {
       "height": 204,
       "width": 423
      },
      "needs_background": "light"
     },
     "output_type": "display_data"
    }
   ],
   "source": [
    "# Import helper module (should be in the repo)\n",
    "import helper\n",
    "\n",
    "# Test out your network!\n",
    "\n",
    "model.eval()\n",
    "\n",
    "dataiter = iter(testloader)\n",
    "images, labels = dataiter.next()\n",
    "img = images[0]\n",
    "# Convert 2D image to 1D vector\n",
    "img = img.view(1, 784)\n",
    "\n",
    "# Calculate the class probabilities (softmax) for img\n",
    "with torch.no_grad():\n",
    "    output = model.forward(img)\n",
    "\n",
    "ps = torch.exp(output)\n",
    "\n",
    "# Plot the image and probabilities\n",
    "helper.view_classify(img.view(1, 28, 28), ps, version='Fashion')"
   ]
  },
  {
   "cell_type": "markdown",
   "metadata": {},
   "source": [
    "## Next Up!\n",
    "\n",
    "In the next part, I'll show you how to save your trained models. In general, you won't want to train a model everytime you need it. Instead, you'll train once, save it, then load the model when you want to train more or use if for inference."
   ]
  }
 ],
 "metadata": {
  "kernelspec": {
   "display_name": "Python 3",
   "language": "python",
   "name": "python3"
  },
  "language_info": {
   "codemirror_mode": {
    "name": "ipython",
    "version": 3
   },
   "file_extension": ".py",
   "mimetype": "text/x-python",
   "name": "python",
   "nbconvert_exporter": "python",
   "pygments_lexer": "ipython3",
   "version": "3.6.3"
  }
 },
 "nbformat": 4,
 "nbformat_minor": 2
}
